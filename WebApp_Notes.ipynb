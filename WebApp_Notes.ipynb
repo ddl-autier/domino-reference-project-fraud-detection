{
 "cells": [
  {
   "cell_type": "markdown",
   "id": "474b373d-ca92-42b1-a9bc-83b1022ecc6c",
   "metadata": {},
   "source": [
    "# Creates a subset of the data for webapp\n",
    "- Split a small set of data\n",
    "- Create a json call for each\n",
    "- Aggregate results"
   ]
  },
  {
   "cell_type": "code",
   "execution_count": 3,
   "id": "d2cdae3c-3c52-47ad-b153-eec48663865b",
   "metadata": {},
   "outputs": [],
   "source": [
    "import pandas as pd"
   ]
  },
  {
   "cell_type": "code",
   "execution_count": null,
   "id": "83b69b0c-2b2e-465b-8bb6-18aacb382cc1",
   "metadata": {},
   "outputs": [],
   "source": []
  },
  {
   "cell_type": "code",
   "execution_count": null,
   "id": "a187eadb-375d-466c-a22e-4468ed408109",
   "metadata": {},
   "outputs": [],
   "source": []
  },
  {
   "cell_type": "code",
   "execution_count": null,
   "id": "a850c725-2aaf-4842-8def-e08539fac4c8",
   "metadata": {},
   "outputs": [],
   "source": []
  }
 ],
 "metadata": {
  "kernelspec": {
   "display_name": "Python 3 (ipykernel)",
   "language": "python",
   "name": "python3"
  },
  "language_info": {
   "codemirror_mode": {
    "name": "ipython",
    "version": 3
   },
   "file_extension": ".py",
   "mimetype": "text/x-python",
   "name": "python",
   "nbconvert_exporter": "python",
   "pygments_lexer": "ipython3",
   "version": "3.8.12"
  }
 },
 "nbformat": 4,
 "nbformat_minor": 5
}
