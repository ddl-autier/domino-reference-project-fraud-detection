{
 "cells": [
  {
   "cell_type": "markdown",
   "id": "474b373d-ca92-42b1-a9bc-83b1022ecc6c",
   "metadata": {},
   "source": [
    "# Creates a subset of the data for webapp"
   ]
  },
  {
   "cell_type": "markdown",
   "id": "cfa33efd-7d4f-4f58-8ef5-7e05f312fe78",
   "metadata": {},
   "source": [
    "# Creates json from those subsets"
   ]
  }
 ],
 "metadata": {
  "kernelspec": {
   "display_name": "Python 3 (ipykernel)",
   "language": "python",
   "name": "python3"
  },
  "language_info": {
   "codemirror_mode": {
    "name": "ipython",
    "version": 3
   },
   "file_extension": ".py",
   "mimetype": "text/x-python",
   "name": "python",
   "nbconvert_exporter": "python",
   "pygments_lexer": "ipython3",
   "version": "3.8.12"
  }
 },
 "nbformat": 4,
 "nbformat_minor": 5
}
