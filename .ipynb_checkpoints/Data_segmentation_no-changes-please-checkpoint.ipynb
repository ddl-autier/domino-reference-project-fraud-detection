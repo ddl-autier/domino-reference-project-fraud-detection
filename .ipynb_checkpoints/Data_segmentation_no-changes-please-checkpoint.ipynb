{
 "cells": [
  {
   "cell_type": "markdown",
   "id": "474b373d-ca92-42b1-a9bc-83b1022ecc6c",
   "metadata": {},
   "source": [
    "# Creates a subset of the data for webapp\n",
    "- Shuffles dataset and split into trainingDF and groundtruthDF\n",
    "- Split a small set of data\n",
    "- Create a json call for each\n",
    "- Aggregate results"
   ]
  },
  {
   "cell_type": "code",
   "execution_count": 2,
   "id": "d2cdae3c-3c52-47ad-b153-eec48663865b",
   "metadata": {},
   "outputs": [],
   "source": [
    "import pandas as pd\n",
    "import json"
   ]
  },
  {
   "cell_type": "code",
   "execution_count": 108,
   "id": "364054e1-b8be-40c2-9a35-9af5125c0618",
   "metadata": {},
   "outputs": [],
   "source": [
    "dataDF = pd.read_csv(\"/mnt/data/Fraud_Detection/creditcard.csv\")\n",
    "dataDF = dataDF.sample(frac=1).reset_index(drop=True)"
   ]
  },
  {
   "cell_type": "markdown",
   "id": "b620c6ab-eb2b-4a40-85f1-21b011694cf7",
   "metadata": {},
   "source": [
    "## Creates big training data & ground truth data"
   ]
  },
  {
   "cell_type": "code",
   "execution_count": 109,
   "id": "2699f74f-c40c-4d44-92aa-020361056314",
   "metadata": {},
   "outputs": [
    {
     "name": "stdout",
     "output_type": "stream",
     "text": [
      "Max:284807 Half:142403\n"
     ]
    }
   ],
   "source": [
    "# get numbers of rows and half of it\n",
    "maxLimit=dataDF.shape[0]\n",
    "halfLimit=int(maxLimit/2)\n",
    "print(\"Max:\"+str(maxLimit)+\" Half:\"+str(halfLimit))\n",
    "\n",
    "# generates trainingDF and groundTruthDF CSV\n",
    "trainingDF=dataDF.iloc[0:halfLimit]\n",
    "filename=\"/mnt/data/Fraud_Detection/training.csv\"\n",
    "trainingDF.to_csv(filename, encoding='utf-8', index=False)\n",
    "\n",
    "groundtruthDF=dataDF.iloc[halfLimit+1:maxLimit-1]\n",
    "filename=\"/mnt/data/Fraud_Detection/groundtruth.csv\"\n",
    "groundtruthDF.to_csv(filename, encoding='utf-8', index=False)"
   ]
  },
  {
   "cell_type": "markdown",
   "id": "3b7c6ef3-9f06-4326-8fe4-40c94c378452",
   "metadata": {},
   "source": [
    "### Number of records with fraudulent transactions in groundtruth"
   ]
  },
  {
   "cell_type": "code",
   "execution_count": 110,
   "id": "04be3ba0-3f4f-40a8-8f23-535f0efb9379",
   "metadata": {},
   "outputs": [
    {
     "name": "stdout",
     "output_type": "stream",
     "text": [
      "#Frauds in Training:248 #Frauds in GroundTruth:244\n"
     ]
    }
   ],
   "source": [
    "fraudCountT=trainingDF.loc[trainingDF['Class'] == 1].shape[0]\n",
    "fraudCountGT=groundtruthDF.loc[groundtruthDF['Class'] == 1].shape[0]\n",
    "print(\"#Frauds in Training:\"+str(fraudCountT)+\" #Frauds in GroundTruth:\"+str(fraudCountGT))"
   ]
  },
  {
   "cell_type": "markdown",
   "id": "003ca074-9e08-4b34-b1d6-d3d8d95d587c",
   "metadata": {},
   "source": [
    "### Creates tiny sets of testing data in /mnt/data/Fraud_Detection/webapp_sets/ from groundtruth\n",
    "While we are at it, let's rename the column Time to Hour so it works with the model and remove the Class column as we are not supposed to know the result"
   ]
  },
  {
   "cell_type": "code",
   "execution_count": 104,
   "id": "5ac4787e-2972-499d-a20e-904443a5557f",
   "metadata": {},
   "outputs": [],
   "source": [
    "# continues code here\n",
    "def createRecordSet(fractionFraudulent,nblines):\n",
    "    if nblines>=groundtruthDF.loc[groundtruthDF['Class'] == 1].shape[0]:\n",
    "        print(\"Too many lines!\")\n",
    "        return(None)\n",
    "    else:\n",
    "        fractionLegit=nblines-int(fractionFraudulent)\n",
    "        fraudDF=groundtruthDF.loc[groundtruthDF['Class'] == 1].iloc[0:fractionFraudulent]\n",
    "        if fractionLegit>0:\n",
    "            legitDF=groundtruthDF.loc[groundtruthDF['Class'] == 0].iloc[0:fractionLegit]\n",
    "            returnDF=pd.concat([legitDF, fraudDF], ignore_index=True, sort=False)\n",
    "        else:\n",
    "            returnDF=fraudDF\n",
    "        return(returnDF.sample(frac=1).reset_index(drop=True))"
   ]
  },
  {
   "cell_type": "code",
   "execution_count": 105,
   "id": "34632a54-dc8a-4aa3-8bc6-631dce81afc3",
   "metadata": {},
   "outputs": [],
   "source": [
    "fractions=(0,1,10,50,100)\n",
    "for x in fractions:\n",
    "    myDF=createRecordSet(x,100)\n",
    "    filename=\"/mnt/data/Fraud_Detection/webapp_sets/records_\"+str(x)+\"pc_fraud.csv\"\n",
    "    myDF.to_csv(filename, encoding='utf-8', index=False)"
   ]
  },
  {
   "cell_type": "code",
   "execution_count": 100,
   "id": "83b69b0c-2b2e-465b-8bb6-18aacb382cc1",
   "metadata": {},
   "outputs": [],
   "source": [
    "# old version for creating chuncks\n",
    "#for i in range (0,4):\n",
    "#    chunkDF=groundtruthDF.iloc[i*1000:(i+1)*1000,:-1].rename(columns={\"Time\":\"Hour\"})\n",
    "#    filename=\"/mnt/data/Fraud_Detection/webapp_sets/records_set\"+str(i)+\".csv\"\n",
    "#    chunkDF.to_csv(filename, encoding='utf-8', index=False)\n",
    "#chunkDF.head()"
   ]
  },
  {
   "cell_type": "markdown",
   "id": "7e7a65b6-12eb-49b6-ae42-1e1cd05eec32",
   "metadata": {},
   "source": [
    "### Creates individual jsons from a tiny set to test API CAll"
   ]
  },
  {
   "cell_type": "code",
   "execution_count": 120,
   "id": "4939cdc7-0216-44a8-9593-edb6c7e6ca05",
   "metadata": {},
   "outputs": [
    {
     "data": {
      "text/html": [
       "<div>\n",
       "<style scoped>\n",
       "    .dataframe tbody tr th:only-of-type {\n",
       "        vertical-align: middle;\n",
       "    }\n",
       "\n",
       "    .dataframe tbody tr th {\n",
       "        vertical-align: top;\n",
       "    }\n",
       "\n",
       "    .dataframe thead th {\n",
       "        text-align: right;\n",
       "    }\n",
       "</style>\n",
       "<table border=\"1\" class=\"dataframe\">\n",
       "  <thead>\n",
       "    <tr style=\"text-align: right;\">\n",
       "      <th></th>\n",
       "      <th>Time</th>\n",
       "      <th>V1</th>\n",
       "      <th>V2</th>\n",
       "      <th>V3</th>\n",
       "      <th>V4</th>\n",
       "      <th>V5</th>\n",
       "      <th>V6</th>\n",
       "      <th>V7</th>\n",
       "      <th>V8</th>\n",
       "      <th>V9</th>\n",
       "      <th>...</th>\n",
       "      <th>V21</th>\n",
       "      <th>V22</th>\n",
       "      <th>V23</th>\n",
       "      <th>V24</th>\n",
       "      <th>V25</th>\n",
       "      <th>V26</th>\n",
       "      <th>V27</th>\n",
       "      <th>V28</th>\n",
       "      <th>Amount</th>\n",
       "      <th>Class</th>\n",
       "    </tr>\n",
       "  </thead>\n",
       "  <tbody>\n",
       "    <tr>\n",
       "      <th>0</th>\n",
       "      <td>58785.0</td>\n",
       "      <td>-0.991230</td>\n",
       "      <td>0.383246</td>\n",
       "      <td>1.419725</td>\n",
       "      <td>-0.851610</td>\n",
       "      <td>-1.059652</td>\n",
       "      <td>-0.852024</td>\n",
       "      <td>-0.192014</td>\n",
       "      <td>0.280544</td>\n",
       "      <td>-1.591594</td>\n",
       "      <td>...</td>\n",
       "      <td>0.233441</td>\n",
       "      <td>0.427368</td>\n",
       "      <td>-0.056555</td>\n",
       "      <td>0.379458</td>\n",
       "      <td>0.359639</td>\n",
       "      <td>-0.072873</td>\n",
       "      <td>-0.161776</td>\n",
       "      <td>-0.027215</td>\n",
       "      <td>39.65</td>\n",
       "      <td>0</td>\n",
       "    </tr>\n",
       "    <tr>\n",
       "      <th>1</th>\n",
       "      <td>51155.0</td>\n",
       "      <td>-11.205461</td>\n",
       "      <td>7.914633</td>\n",
       "      <td>-13.987752</td>\n",
       "      <td>4.333341</td>\n",
       "      <td>-8.484970</td>\n",
       "      <td>-3.506561</td>\n",
       "      <td>-8.935243</td>\n",
       "      <td>7.704449</td>\n",
       "      <td>-2.336584</td>\n",
       "      <td>...</td>\n",
       "      <td>0.942593</td>\n",
       "      <td>-0.987848</td>\n",
       "      <td>-0.279446</td>\n",
       "      <td>-0.027299</td>\n",
       "      <td>0.644344</td>\n",
       "      <td>-0.263078</td>\n",
       "      <td>1.084023</td>\n",
       "      <td>0.211933</td>\n",
       "      <td>99.99</td>\n",
       "      <td>1</td>\n",
       "    </tr>\n",
       "    <tr>\n",
       "      <th>2</th>\n",
       "      <td>62346.0</td>\n",
       "      <td>1.049547</td>\n",
       "      <td>-0.275417</td>\n",
       "      <td>0.828154</td>\n",
       "      <td>0.571077</td>\n",
       "      <td>-0.639592</td>\n",
       "      <td>0.239669</td>\n",
       "      <td>-0.487189</td>\n",
       "      <td>0.201429</td>\n",
       "      <td>0.320254</td>\n",
       "      <td>...</td>\n",
       "      <td>0.196761</td>\n",
       "      <td>0.653981</td>\n",
       "      <td>-0.121094</td>\n",
       "      <td>0.100568</td>\n",
       "      <td>0.350442</td>\n",
       "      <td>0.613651</td>\n",
       "      <td>-0.003712</td>\n",
       "      <td>0.011687</td>\n",
       "      <td>51.00</td>\n",
       "      <td>0</td>\n",
       "    </tr>\n",
       "    <tr>\n",
       "      <th>3</th>\n",
       "      <td>122678.0</td>\n",
       "      <td>1.848558</td>\n",
       "      <td>-0.478917</td>\n",
       "      <td>-1.006800</td>\n",
       "      <td>0.646239</td>\n",
       "      <td>-0.375740</td>\n",
       "      <td>-0.882943</td>\n",
       "      <td>0.046305</td>\n",
       "      <td>-0.234386</td>\n",
       "      <td>0.765361</td>\n",
       "      <td>...</td>\n",
       "      <td>0.036503</td>\n",
       "      <td>0.046354</td>\n",
       "      <td>0.114275</td>\n",
       "      <td>-0.063654</td>\n",
       "      <td>-0.193171</td>\n",
       "      <td>0.259019</td>\n",
       "      <td>-0.062533</td>\n",
       "      <td>-0.041770</td>\n",
       "      <td>100.00</td>\n",
       "      <td>0</td>\n",
       "    </tr>\n",
       "    <tr>\n",
       "      <th>4</th>\n",
       "      <td>163385.0</td>\n",
       "      <td>2.130327</td>\n",
       "      <td>-0.603784</td>\n",
       "      <td>-1.039881</td>\n",
       "      <td>-1.662901</td>\n",
       "      <td>-0.350725</td>\n",
       "      <td>-0.663592</td>\n",
       "      <td>-0.397661</td>\n",
       "      <td>-0.190456</td>\n",
       "      <td>2.051923</td>\n",
       "      <td>...</td>\n",
       "      <td>-0.283994</td>\n",
       "      <td>-0.558878</td>\n",
       "      <td>0.231179</td>\n",
       "      <td>-0.995032</td>\n",
       "      <td>-0.248695</td>\n",
       "      <td>-0.500854</td>\n",
       "      <td>0.030387</td>\n",
       "      <td>-0.046598</td>\n",
       "      <td>8.22</td>\n",
       "      <td>0</td>\n",
       "    </tr>\n",
       "  </tbody>\n",
       "</table>\n",
       "<p>5 rows × 31 columns</p>\n",
       "</div>"
      ],
      "text/plain": [
       "       Time         V1        V2         V3        V4        V5        V6  \\\n",
       "0   58785.0  -0.991230  0.383246   1.419725 -0.851610 -1.059652 -0.852024   \n",
       "1   51155.0 -11.205461  7.914633 -13.987752  4.333341 -8.484970 -3.506561   \n",
       "2   62346.0   1.049547 -0.275417   0.828154  0.571077 -0.639592  0.239669   \n",
       "3  122678.0   1.848558 -0.478917  -1.006800  0.646239 -0.375740 -0.882943   \n",
       "4  163385.0   2.130327 -0.603784  -1.039881 -1.662901 -0.350725 -0.663592   \n",
       "\n",
       "         V7        V8        V9  ...       V21       V22       V23       V24  \\\n",
       "0 -0.192014  0.280544 -1.591594  ...  0.233441  0.427368 -0.056555  0.379458   \n",
       "1 -8.935243  7.704449 -2.336584  ...  0.942593 -0.987848 -0.279446 -0.027299   \n",
       "2 -0.487189  0.201429  0.320254  ...  0.196761  0.653981 -0.121094  0.100568   \n",
       "3  0.046305 -0.234386  0.765361  ...  0.036503  0.046354  0.114275 -0.063654   \n",
       "4 -0.397661 -0.190456  2.051923  ... -0.283994 -0.558878  0.231179 -0.995032   \n",
       "\n",
       "        V25       V26       V27       V28  Amount  Class  \n",
       "0  0.359639 -0.072873 -0.161776 -0.027215   39.65      0  \n",
       "1  0.644344 -0.263078  1.084023  0.211933   99.99      1  \n",
       "2  0.350442  0.613651 -0.003712  0.011687   51.00      0  \n",
       "3 -0.193171  0.259019 -0.062533 -0.041770  100.00      0  \n",
       "4 -0.248695 -0.500854  0.030387 -0.046598    8.22      0  \n",
       "\n",
       "[5 rows x 31 columns]"
      ]
     },
     "execution_count": 120,
     "metadata": {},
     "output_type": "execute_result"
    }
   ],
   "source": [
    "recordDF=createRecordSet(1,5)\n",
    "for t in range (0,5):\n",
    "    chunkDF=recordDF.iloc[t,:-1]\n",
    "    result = chunkDF.to_json(orient=\"index\")\n",
    "    final='{ \"data\": '+result+\" }\"\n",
    "    filename=\"/mnt/data/Fraud_Detection/webapp_sets/unique_record\"+str(t)+\".json\"\n",
    "    with open(filename, 'w') as f:\n",
    "        f.write(final)\n",
    "recordDF"
   ]
  }
 ],
 "metadata": {
  "kernelspec": {
   "display_name": "Python 3 (ipykernel)",
   "language": "python",
   "name": "python3"
  },
  "language_info": {
   "codemirror_mode": {
    "name": "ipython",
    "version": 3
   },
   "file_extension": ".py",
   "mimetype": "text/x-python",
   "name": "python",
   "nbconvert_exporter": "python",
   "pygments_lexer": "ipython3",
   "version": "3.8.12"
  }
 },
 "nbformat": 4,
 "nbformat_minor": 5
}
