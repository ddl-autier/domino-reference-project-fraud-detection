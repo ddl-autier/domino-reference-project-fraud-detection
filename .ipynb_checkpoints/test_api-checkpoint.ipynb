{
 "cells": [
  {
   "cell_type": "markdown",
   "id": "8ab00ff0-2747-4b2d-9a45-9b5085618618",
   "metadata": {},
   "source": [
    "## Application tests from Model"
   ]
  },
  {
   "cell_type": "markdown",
   "id": "34753c78-1c7c-47cb-b1be-b08d3aae55ef",
   "metadata": {},
   "source": [
    "### Calling model from URL"
   ]
  },
  {
   "cell_type": "code",
   "execution_count": 2,
   "id": "f85937d2-0c86-40b9-b456-350fb168fcca",
   "metadata": {},
   "outputs": [],
   "source": [
    "import os\n",
    "testJson={ \n",
    "        \"data\": { \"V1\": -0.88, \"V2\": 0.40, \"V3\": 0.73, \"V4\":-1.65, \"V5\":2.73, \"V6\":3.41, \"V7\":0.23, \"V8\":0.71, \"V9\":-0.35, \"V10\":-0.45, \"V11\":-0.16, \"V12\":-0.36, \"V13\":-0.10, \"V14\":-0.06, \"V15\":0.86, \"V16\":0.83, \"V17\":-1.28, \"V18\":0.14, \"V19\":-0.27, \"V20\":0.10, \"V21\":-0.25, \"V22\":-0.90, \"V23\":-0.22, \"V24\":0.98, \"V25\":0.27, \"V26\":-0.001, \"V27\":-0.29, \"V28\":-0.14, \"Amount\":-68.74, \"Hour\":5.98 } \n",
    "    }"
   ]
  },
  {
   "cell_type": "code",
   "execution_count": 4,
   "id": "b58cb11f-a768-420e-8db0-35759747a847",
   "metadata": {},
   "outputs": [
    {
     "name": "stdout",
     "output_type": "stream",
     "text": [
      "200\n",
      "{'Date': 'Thu, 21 Apr 2022 12:22:24 GMT', 'Content-Type': 'application/json', 'Content-Length': '241', 'Connection': 'keep-alive', 'X-Request-ID': 'L3O2ZFMXE7WJ465U', 'Domino-Server': 'nginx-ingress,model-api,', 'Access-Control-Allow-Origin': '*', 'Access-Control-Allow-Methods': 'POST', 'Access-Control-Allow-Headers': 'authorization,content-type'}\n",
      "{'model_time_in_ms': 16, 'release': {'harness_version': '0.1', 'model_version': '6253def14906b439238b5bb1', 'model_version_number': 5}, 'request_id': 'L3O2ZFMXE7WJ465U', 'result': [[0.9990866184234619, 0.0009133722633123398]], 'timing': 16.11614227294922}\n"
     ]
    }
   ],
   "source": [
    "import requests\n",
    " \n",
    "response = requests.post(\"https://demo2.dominodatalab.com:443/models/624edda3ec229400bbd36ff9/latest/model\",\n",
    "    auth=(\n",
    "        \"pTR1aAlDmbr4x5FVAyRSMIGewXHWiOMKC5vrLV0MNFxd4J357k6u4LPNv1wto25l\",\n",
    "        \"pTR1aAlDmbr4x5FVAyRSMIGewXHWiOMKC5vrLV0MNFxd4J357k6u4LPNv1wto25l\"\n",
    "    ),\n",
    "    json=testJson\n",
    "    )\n",
    " \n",
    "print(response.status_code)\n",
    "print(response.headers)\n",
    "print(response.json())"
   ]
  }
 ],
 "metadata": {
  "kernelspec": {
   "display_name": "Python 3 (ipykernel)",
   "language": "python",
   "name": "python3"
  },
  "language_info": {
   "codemirror_mode": {
    "name": "ipython",
    "version": 3
   },
   "file_extension": ".py",
   "mimetype": "text/x-python",
   "name": "python",
   "nbconvert_exporter": "python",
   "pygments_lexer": "ipython3",
   "version": "3.8.12"
  }
 },
 "nbformat": 4,
 "nbformat_minor": 5
}
