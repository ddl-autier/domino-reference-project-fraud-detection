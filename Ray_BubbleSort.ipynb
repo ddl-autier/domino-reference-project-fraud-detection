{
 "cells": [
  {
   "cell_type": "code",
   "execution_count": 1,
   "metadata": {},
   "outputs": [],
   "source": [
    "import ray\n",
    "import ray.util\n",
    "import os\n",
    "import time\n",
    "import random\n"
   ]
  },
  {
   "cell_type": "code",
   "execution_count": 2,
   "metadata": {},
   "outputs": [],
   "source": [
    "if ray.is_initialized() == False:\n",
    "   service_host = os.environ[\"RAY_HEAD_SERVICE_HOST\"]\n",
    "   service_port = os.environ[\"RAY_HEAD_SERVICE_PORT\"]\n",
    "   ray.util.connect(f\"{service_host}:{service_port}\")\n"
   ]
  },
  {
   "cell_type": "code",
   "execution_count": 3,
   "metadata": {},
   "outputs": [
    {
     "data": {
      "text/plain": [
       "True"
      ]
     },
     "execution_count": 3,
     "metadata": {},
     "output_type": "execute_result"
    }
   ],
   "source": [
    "ray.is_initialized()"
   ]
  },
  {
   "cell_type": "code",
   "execution_count": 4,
   "metadata": {},
   "outputs": [],
   "source": [
    "def bubble_sort(to_sort):\n",
    "    n = len(to_sort)\n",
    "    for i in range(n):\n",
    "        for j in range(n - 1):\n",
    "            if to_sort[j] > to_sort[j+1]:\n",
    "                to_sort[j], to_sort[j+1] = to_sort[j+1], to_sort[j]\n"
   ]
  },
  {
   "cell_type": "code",
   "execution_count": 5,
   "metadata": {},
   "outputs": [],
   "source": [
    "@ray.remote\n",
    "def bubble_sort_remote(to_sort):\n",
    "    n = len(to_sort)\n",
    "    for i in range(n):\n",
    "        for j in range(n - 1):\n",
    "            if to_sort[j] > to_sort[j+1]:\n",
    "                to_sort[j], to_sort[j+1] = to_sort[j+1], to_sort[j]"
   ]
  },
  {
   "cell_type": "code",
   "execution_count": 6,
   "metadata": {},
   "outputs": [
    {
     "name": "stdout",
     "output_type": "stream",
     "text": [
      "--- 13.243323802947998 seconds ---\n"
     ]
    }
   ],
   "source": [
    "start_time = time.time()\n",
    "[bubble_sort(random.sample(range(1, 1000000), 3000)) for _ in range(12)]\n",
    "print(\"--- %s seconds ---\" % ((time.time() - start_time)))\n"
   ]
  },
  {
   "cell_type": "code",
   "execution_count": 7,
   "metadata": {},
   "outputs": [
    {
     "name": "stdout",
     "output_type": "stream",
     "text": [
      "--- 6.3970787525177 seconds ---\n"
     ]
    }
   ],
   "source": [
    "start_time = time.time()\n",
    "ray.get([bubble_sort_remote.remote(random.sample(range(1, 1000000), 3000)) for _ in range(12)])\n",
    "print(\"--- %s seconds ---\" % ((time.time() - start_time)))\n"
   ]
  },
  {
   "cell_type": "code",
   "execution_count": null,
   "metadata": {},
   "outputs": [],
   "source": []
  }
 ],
 "metadata": {
  "kernelspec": {
   "display_name": "Python 3 (ipykernel)",
   "language": "python",
   "name": "python3"
  },
  "language_info": {
   "codemirror_mode": {
    "name": "ipython",
    "version": 3
   },
   "file_extension": ".py",
   "mimetype": "text/x-python",
   "name": "python",
   "nbconvert_exporter": "python",
   "pygments_lexer": "ipython3",
   "version": "3.8.12"
  }
 },
 "nbformat": 4,
 "nbformat_minor": 4
}
