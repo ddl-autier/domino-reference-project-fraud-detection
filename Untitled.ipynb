{
 "cells": [
  {
   "cell_type": "code",
   "execution_count": 1,
   "id": "d497879a-c876-481c-baf3-b7a5a26e7b8b",
   "metadata": {},
   "outputs": [],
   "source": [
    "from domino.data_sources import DataSourceClient\n",
    "\n",
    "# instantiate a client and fetch the datasource instance\n",
    "object_store = DataSourceClient().get_datasource(\"Gautier-CC\")\n",
    "\n",
    "# list objects available in the datasource\n",
    "objects = object_store.list_objects()\n",
    "\n",
    "## get content as binary\n",
    "# content = object_store.get(\"key\")\n",
    "\n",
    "## download content to file\n",
    "# object_store.download_file(\"key\", \"./path/to/local/file\")\n",
    "\n",
    "## Download content to file object\n",
    "# f = io.BytesIO()\n",
    "# object_store.download_fileobj(\"key\", f)"
   ]
  },
  {
   "cell_type": "code",
   "execution_count": 2,
   "id": "b6b38613-df38-4b02-adcf-c7df539ddb6f",
   "metadata": {},
   "outputs": [
    {
     "data": {
      "text/plain": [
       "[_Object(key='churndata.csv'),\n",
       " _Object(key='churndata_half.csv'),\n",
       " _Object(key='hello.txt'),\n",
       " _Object(key='temp.csv'),\n",
       " _Object(key='temp.txt')]"
      ]
     },
     "execution_count": 2,
     "metadata": {},
     "output_type": "execute_result"
    }
   ],
   "source": [
    "objects"
   ]
  },
  {
   "cell_type": "code",
   "execution_count": null,
   "id": "ed975740-5d53-4874-a32b-e2f0def0b8f1",
   "metadata": {},
   "outputs": [],
   "source": []
  }
 ],
 "metadata": {
  "kernelspec": {
   "display_name": "Python 3 (ipykernel)",
   "language": "python",
   "name": "python3"
  },
  "language_info": {
   "codemirror_mode": {
    "name": "ipython",
    "version": 3
   },
   "file_extension": ".py",
   "mimetype": "text/x-python",
   "name": "python",
   "nbconvert_exporter": "python",
   "pygments_lexer": "ipython3",
   "version": "3.8.12"
  }
 },
 "nbformat": 4,
 "nbformat_minor": 5
}
